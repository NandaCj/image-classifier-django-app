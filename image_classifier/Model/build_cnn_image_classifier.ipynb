{
 "cells": [
  {
   "cell_type": "code",
   "execution_count": 1,
   "metadata": {},
   "outputs": [
    {
     "name": "stderr",
     "output_type": "stream",
     "text": [
      "Using Theano backend.\n",
      "WARNING: Logging before flag parsing goes to stderr.\n",
      "W0925 17:06:53.946784 140135691360064 blas_headers.py:988] Using NumPy C-API based implementation for BLAS functions.\n"
     ]
    }
   ],
   "source": [
    "# dataset download path = 'https://www.microsoft.com/en-us/download/details.aspx?id=54765&WT.mc_id=rss_alldownloads_devresources'\n",
    "import os\n",
    "from os.path import dirname, join\n",
    "from os import listdir\n",
    "import numpy as np\n",
    "import pandas as pd\n",
    "import tensorflow as tf\n",
    "import keras\n",
    "import pydot\n",
    "from matplotlib import pyplot as plt\n",
    "from keras import Input, Model, layers, Sequential\n",
    "from keras.layers import Dense, Dropout, Conv2D, MaxPooling2D, Conv1D, MaxPool1D, Flatten\n",
    "import cv2\n",
    "import time\n",
    "from keras.optimizers import Adam\n",
    "\n",
    "\n",
    "\n",
    "cur_dir = os.getcwd()\n",
    "dataset_dir = join(cur_dir, '../dataset_cats_dogs/PetImages')\n",
    "cats_dir = join(dataset_dir, 'Cat')\n",
    "dogs_dir = join(dataset_dir, 'Dog')\n",
    "\n"
   ]
  },
  {
   "cell_type": "code",
   "execution_count": null,
   "metadata": {},
   "outputs": [],
   "source": [
    "# dirs = {cats_dir : 0, dogs_dir: 1}\n",
    "# for folder, class_value in dirs.items():\n",
    "#     for file in listdir(folder)[:1]:\n",
    "#         file_path = join(folder, file)\n",
    "#         img_arr = cv2.imread(file_path)\n",
    "#         print(img_arr.shape)\n",
    "        \n",
    "#         reshaped = cv2.resize(img_arr, dsize=(200,200))\n",
    "#         print(reshaped.shape)"
   ]
  },
  {
   "cell_type": "code",
   "execution_count": 2,
   "metadata": {},
   "outputs": [
    {
     "name": "stdout",
     "output_type": "stream",
     "text": [
      "Failed ----> 5553.jpg\n"
     ]
    }
   ],
   "source": [
    "# converting coloured image into grey image and changing all images to similar size\n",
    "\n",
    "final_data = []\n",
    "Class = []\n",
    "dirs = {cats_dir : 0, dogs_dir: 1}\n",
    "\n",
    "for folder, class_value in dirs.items():\n",
    "    for file in listdir(folder)[:100]:\n",
    "        if class_value == 0 :\n",
    "            c = np.array([0])\n",
    "        else:\n",
    "            c = np.array([1])\n",
    "        try :\n",
    "            file_path = join(folder, file)\n",
    "            image_array_grey_scale = cv2.resize(cv2.imread(file_path), dsize=(60, 60))   \n",
    "#             reshaped = image_array_grey_scale.reshape(14400, )\n",
    "            final_data.append(image_array_grey_scale)\n",
    "            Class.append(c)\n",
    "        except :\n",
    "            print(\"Failed ---->\", file)"
   ]
  },
  {
   "cell_type": "code",
   "execution_count": 3,
   "metadata": {},
   "outputs": [
    {
     "name": "stdout",
     "output_type": "stream",
     "text": [
      "(199, 60, 60, 3)\n",
      "(199, 1)\n"
     ]
    }
   ],
   "source": [
    "final_data = np.array(final_data)\n",
    "Class = np.array(Class)\n",
    "\n",
    "\n",
    "print(final_data.shape)\n",
    "print(Class.shape)"
   ]
  },
  {
   "cell_type": "code",
   "execution_count": 6,
   "metadata": {},
   "outputs": [
    {
     "name": "stdout",
     "output_type": "stream",
     "text": [
      "Model: \"sequential_3\"\n",
      "_________________________________________________________________\n",
      "Layer (type)                 Output Shape              Param #   \n",
      "=================================================================\n",
      "conv2d_5 (Conv2D)            (None, 58, 58, 100)       2800      \n",
      "_________________________________________________________________\n",
      "max_pooling2d_5 (MaxPooling2 (None, 29, 29, 100)       0         \n",
      "_________________________________________________________________\n",
      "conv2d_6 (Conv2D)            (None, 27, 27, 216)       194616    \n",
      "_________________________________________________________________\n",
      "max_pooling2d_6 (MaxPooling2 (None, 13, 13, 216)       0         \n",
      "_________________________________________________________________\n",
      "flatten_3 (Flatten)          (None, 36504)             0         \n",
      "_________________________________________________________________\n",
      "dense_5 (Dense)              (None, 128)               4672640   \n",
      "_________________________________________________________________\n",
      "dense_6 (Dense)              (None, 1)                 129       \n",
      "=================================================================\n",
      "Total params: 4,870,185\n",
      "Trainable params: 4,870,185\n",
      "Non-trainable params: 0\n",
      "_________________________________________________________________\n"
     ]
    }
   ],
   "source": [
    "model = Sequential()\n",
    "model.add(Conv2D(100, (3, 3), activation='relu', kernel_initializer='he_uniform', input_shape=(60, 60, 3)))\n",
    "model.add(MaxPooling2D((2, 2)))\n",
    "model.add(Conv2D(216, (3, 3), activation='relu', kernel_initializer='he_uniform', input_shape=(60, 60, 3)))\n",
    "model.add(MaxPooling2D((2, 2)))\n",
    "model.add(Flatten())\n",
    "model.add(Dense(128, activation='relu', kernel_initializer='he_uniform'))\n",
    "model.add(Dense(1, activation='sigmoid'))\n",
    "# compile model\n",
    "opt = Adam(lr=0.0001)\n",
    "model.compile(optimizer=opt, loss='binary_crossentropy', metrics=['accuracy'])\n",
    "model.summary()"
   ]
  },
  {
   "cell_type": "code",
   "execution_count": null,
   "metadata": {},
   "outputs": [],
   "source": [
    "model.fit(final_data, Class, epochs=10)"
   ]
  },
  {
   "cell_type": "code",
   "execution_count": null,
   "metadata": {},
   "outputs": [],
   "source": []
  }
 ],
 "metadata": {
  "kernelspec": {
   "display_name": "Python 3",
   "language": "python",
   "name": "python3"
  },
  "language_info": {
   "codemirror_mode": {
    "name": "ipython",
    "version": 3
   },
   "file_extension": ".py",
   "mimetype": "text/x-python",
   "name": "python",
   "nbconvert_exporter": "python",
   "pygments_lexer": "ipython3",
   "version": "3.6.8"
  }
 },
 "nbformat": 4,
 "nbformat_minor": 2
}
